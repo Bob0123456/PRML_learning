{
 "cells": [
  {
   "cell_type": "markdown",
   "metadata": {},
   "source": [
    "# 2.概率分布"
   ]
  },
  {
   "cell_type": "code",
   "execution_count": 2,
   "metadata": {
    "code_folding": [
     0
    ]
   },
   "outputs": [],
   "source": [
    "# preparation\n",
    "import numpy as np\n",
    "import matplotlib.pyplot as plt\n",
    "%matplotlib inline\n",
    "\n",
    "from prml.rv import (\n",
    "    Bernoulli,\n",
    "    Beta,\n",
    "    Categorical,\n",
    "    Dirichlet,\n",
    "    Gamma,\n",
    "    Gaussian,\n",
    "    MultivariateGaussian,\n",
    "    MultivariateGaussianMixture,\n",
    "    StudentsT,\n",
    "    Uniform\n",
    ")\n",
    "\n",
    "np.random.seed(1234)"
   ]
  },
  {
   "cell_type": "markdown",
   "metadata": {},
   "source": [
    "本章学习各种特殊的概率分布。作用：在有限观测下，对p(x)进行建模-密度估计.每次取样都是独立同分布的。<p>\n",
    "我们用离散随机变量的二项分布和多项式分布，连续随机变量的高斯分布的参数分布。\n",
    "- 频率派计算似然函数之类的确定参数。\n",
    "- 贝叶斯派引入参数的先验，来计算后验。<p>"
   ]
  },
  {
   "cell_type": "markdown",
   "metadata": {},
   "source": [
    "还有个重要概念：共轭先验：后验概率和先验概率分布相同。<p>\n",
    "也会介绍非参数密度估计的方法。"
   ]
  },
  {
   "cell_type": "markdown",
   "metadata": {},
   "source": [
    "## 2.1 二元变量\n",
    "x只能取0或1，取1的概率是$\\mu$(扔损坏的硬币)\n",
    "\n",
    "$$ p(x = 1|\\mu) = \\mu \\tag{2.1} $$\n",
    "\n",
    "$0 \\leq \\mu \\leq 1 $，所以$ p(x=0|\\mu) = 1 - \\mu $。概率分布为：\n",
    "\n",
    "$$ Bern(x|\\mu) = \\mu^x(1-\\mu)^{1 - x} \\tag{2.2} $$\n",
    "\n",
    "这就是伯努利分布。"
   ]
  },
  {
   "cell_type": "markdown",
   "metadata": {},
   "source": [
    "它归一化的，均值和方差也可以计算。\n",
    "\n",
    "$E[x]=\\mu \\tag{2.3}$\n",
    "\n",
    "$var[x]=\\mu(1-\\mu) \\tag{2.4}$"
   ]
  },
  {
   "cell_type": "code",
   "execution_count": null,
   "metadata": {},
   "outputs": [],
   "source": [
    "# bern归一化"
   ]
  },
  {
   "cell_type": "markdown",
   "metadata": {},
   "source": [
    "如果观测值是数据集$D=\\{x_1,...,x_N\\}$，每次观测都是在$p(x|\\mu)$中抽取。则似然函数有：\n",
    "\n",
    "$$ p(D|\\mu) = \\prod\\limits_{n=1}^Np(x_n|\\mu) = \\prod\\limits_{n=1}^{N}\\mu^{x_n}(1-\\mu)^{1-x_n} \\tag{2.5} $$"
   ]
  },
  {
   "cell_type": "markdown",
   "metadata": {},
   "source": [
    "频度派：最大化似然函数来估计参数》最大化对数似然。\n",
    "\n",
    "$$ \\ln p(D|\\mu) = \\sum\\limits_{n=1}^N\\ln p(x_n|\\mu) = \\sum\\limits_{n=1}^N{x_n\\ln \\mu + (1 - x_n)\\ln(1-\\mu)} \\tag{2.6} $$\n",
    "\n",
    "**这个只用N次观测结果得到的似然函数，也叫充分统计量。**令其导数为零，我们有最大似然的估计值时的$\\mu$:\n",
    "\n",
    "$$ \\mu_{ML} = \\frac{1}{N}\\sum\\limits_{n=1}^N x_n \\tag{2.7} $$\n",
    "\n",
    "这也叫做样本均值。如果把x=1的观测次数记录为m，则2.7可以写成：\n",
    "\n",
    "$$ \\mu_{ML} = \\frac{m}{N} \\tag{2.8} $$"
   ]
  },
  {
   "cell_type": "markdown",
   "metadata": {},
   "source": [
    "但这个只用观测可能不靠谱，扔硬币三次刚好都是正面N=m=3,则会判断未来观测都是正面。"
   ]
  },
  {
   "cell_type": "code",
   "execution_count": 3,
   "metadata": {},
   "outputs": [
    {
     "name": "stdout",
     "output_type": "stream",
     "text": [
      "Bernoulli(\n",
      "    mu=0.75\n",
      ")\n"
     ]
    }
   ],
   "source": [
    "model = Bernoulli()\n",
    "model.fit(np.array([0., 1., 1., 1.]))\n",
    "print(model)"
   ]
  },
  {
   "cell_type": "code",
   "execution_count": 4,
   "metadata": {},
   "outputs": [
    {
     "name": "stdout",
     "output_type": "stream",
     "text": [
      "Bernoulli(\n",
      "    mu=1.0\n",
      ")\n"
     ]
    }
   ],
   "source": [
    "model = Bernoulli()\n",
    "model.fit(np.array([1., 1., 1., 1.]))\n",
    "print(model)"
   ]
  },
  {
   "cell_type": "markdown",
   "metadata": {},
   "source": [
    "一般引入先验来解决。"
   ]
  },
  {
   "cell_type": "markdown",
   "metadata": {},
   "source": [
    "换一个角度，在给定数据集规模N的条件下，x=1的观测出现数量m的概率分布：二项分布。\n",
    "\n",
    "概率是正比于$ \\mu^m(1 - \\mu)^{N - m} $的.就是每次扔硬币的结果叠乘得到的。\n",
    "\n",
    "而且需要归一化常数：N次抛掷中，m个正面向上的次数的组合$C_N^m$为归一化常数。\n",
    "\n",
    "$$ Bin(m|N, \\mu) = \\binom{N}{m}\\mu^m(1 - \\mu)^{N - m} \\tag{2.9} $$\n",
    "\n",
    "其中 $$ \\binom{N}{m} \\equiv \\frac{N!}{(N - m)!m!} \\tag{2.10} $$\n",
    "\n",
    "$ N = 10, \\mu = 0.25 $二项式分布示意图:"
   ]
  },
  {
   "cell_type": "code",
   "execution_count": null,
   "metadata": {},
   "outputs": [],
   "source": [
    "# 二项式分布"
   ]
  },
  {
   "cell_type": "markdown",
   "metadata": {},
   "source": [
    "根据1.10:加和的均值是均值的加和，加和的方差是方差的加和:"
   ]
  },
  {
   "cell_type": "code",
   "execution_count": null,
   "metadata": {},
   "outputs": [],
   "source": [
    "# 1.10"
   ]
  },
  {
   "cell_type": "markdown",
   "metadata": {},
   "source": [
    "$m=x_1+...+x_N$，因此我们有:<p>\n",
    "\n",
    "$$\n",
    "\\mathbb{E}[m] \\equiv \\sum_{m=0}^{N} m \\operatorname{Bin}(m \\mid N, \\mu)=N \\mu \\tag{2.11}\n",
    "$$\n",
    "    \n",
    "$$\n",
    "\\mathbb{E}[m] \\equiv \\sum_{m=0}^{N} (m-E[m])^2 \\operatorname{Bin}(m \\mid N, \\mu)=N \\mu(1-\\mu) \\tag{2.12}\n",
    "$$"
   ]
  },
  {
   "cell_type": "code",
   "execution_count": null,
   "metadata": {},
   "outputs": [],
   "source": []
  }
 ],
 "metadata": {
  "kernelspec": {
   "display_name": "Python 3",
   "language": "python",
   "name": "python3"
  },
  "language_info": {
   "codemirror_mode": {
    "name": "ipython",
    "version": 3
   },
   "file_extension": ".py",
   "mimetype": "text/x-python",
   "name": "python",
   "nbconvert_exporter": "python",
   "pygments_lexer": "ipython3",
   "version": "3.7.7"
  }
 },
 "nbformat": 4,
 "nbformat_minor": 4
}
